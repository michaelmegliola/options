{
 "cells": [
  {
   "cell_type": "markdown",
   "metadata": {},
   "source": [
    "Here are classes for call and put options:"
   ]
  },
  {
   "cell_type": "code",
   "execution_count": 14,
   "metadata": {},
   "outputs": [
    {
     "name": "stdout",
     "output_type": "stream",
     "text": [
      "call s=10.50 e=30.00 put s=10.50 e=30.00\n"
     ]
    }
   ],
   "source": [
    "class option:\n",
    "    def __init__(self, strike, expiration, option_type):\n",
    "        self.strike = strike\n",
    "        self.expiration = expiration\n",
    "        self.option_type = option_type\n",
    "        \n",
    "    def set_premium(self, premium):\n",
    "        self.premium = premium\n",
    "        \n",
    "    def get_premium(self):\n",
    "        return self.premium\n",
    "        \n",
    "    def get_strike(self):\n",
    "        return self.strike\n",
    "     \n",
    "    def get_mark(self, spot):\n",
    "        return self.get_intrinsic_value(spot) - self.premium\n",
    "    \n",
    "    def get_intrinsic_value(self, spot):\n",
    "        pass\n",
    "        \n",
    "    def __str__(self):\n",
    "        return self.option_type + ' s=' + '{0:.2f}'.format(self.strike) + ' e=' + '{0:.2f}'.format(self.expiration)\n",
    "\n",
    "class call_option(option):\n",
    "    def __init__(self, strike, expiration):\n",
    "        option.__init__(self, strike, expiration, 'call')\n",
    "    \n",
    "    def get_intrinsic_value(self, spot):\n",
    "        return max(spot - self.strike, 0)\n",
    "   \n",
    "class put_option(option):\n",
    "    def __init__(self, strike, expiration):\n",
    "        option.__init__(self, strike, expiration, 'put')\n",
    "    \n",
    "    def get_intrinsic_value(self, spot):\n",
    "        return max(self.strike - spot, 0)\n",
    "\n",
    "c = call_option(10.50, 30)\n",
    "p = put_option(10.50, 30)\n",
    "print(c,p)"
   ]
  },
  {
   "cell_type": "markdown",
   "metadata": {},
   "source": [
    "If I ask for the premium, I need to set it first..."
   ]
  },
  {
   "cell_type": "code",
   "execution_count": 15,
   "metadata": {},
   "outputs": [
    {
     "data": {
      "text/plain": [
       "0.32"
      ]
     },
     "execution_count": 15,
     "metadata": {},
     "output_type": "execute_result"
    }
   ],
   "source": [
    "c.set_premium(0.32)\n",
    "c.get_premium()"
   ]
  },
  {
   "cell_type": "code",
   "execution_count": 17,
   "metadata": {},
   "outputs": [
    {
     "data": {
      "text/plain": [
       "1.93"
      ]
     },
     "execution_count": 17,
     "metadata": {},
     "output_type": "execute_result"
    }
   ],
   "source": [
    "c.get_mark(12.75)"
   ]
  },
  {
   "cell_type": "code",
   "execution_count": 18,
   "metadata": {},
   "outputs": [
    {
     "data": {
      "text/plain": [
       "array([ 0. ,  0.2,  0.4,  0.6,  0.8,  1. ,  1.2,  1.4,  1.6,  1.8,  2. ,\n",
       "        2.2,  2.4,  2.6,  2.8,  3. ,  3.2,  3.4,  3.6,  3.8,  4. ,  4.2,\n",
       "        4.4,  4.6,  4.8,  5. ,  5.2,  5.4,  5.6,  5.8,  6. ,  6.2,  6.4,\n",
       "        6.6,  6.8,  7. ,  7.2,  7.4,  7.6,  7.8,  8. ,  8.2,  8.4,  8.6,\n",
       "        8.8,  9. ,  9.2,  9.4,  9.6,  9.8, 10. , 10.2, 10.4, 10.6, 10.8,\n",
       "       11. , 11.2, 11.4, 11.6, 11.8, 12. , 12.2, 12.4, 12.6, 12.8, 13. ,\n",
       "       13.2, 13.4, 13.6, 13.8, 14. , 14.2, 14.4, 14.6, 14.8, 15. , 15.2,\n",
       "       15.4, 15.6, 15.8, 16. , 16.2, 16.4, 16.6, 16.8, 17. , 17.2, 17.4,\n",
       "       17.6, 17.8, 18. , 18.2, 18.4, 18.6, 18.8, 19. , 19.2, 19.4, 19.6,\n",
       "       19.8, 20. ])"
      ]
     },
     "execution_count": 18,
     "metadata": {},
     "output_type": "execute_result"
    }
   ],
   "source": [
    "%matplotlib inline \n",
    "import matplotlib\n",
    "import matplotlib.pyplot as plt\n",
    "import numpy as np\n",
    "\n",
    "spot = np.linspace(0,20,101)\n",
    "spot"
   ]
  },
  {
   "cell_type": "code",
   "execution_count": 25,
   "metadata": {},
   "outputs": [
    {
     "data": {
      "image/png": "[encoded data removed]",
      "text/plain": [
       "<matplotlib.figure.Figure at 0x7f0a0c63aac8>"
      ]
     },
     "metadata": {},
     "output_type": "display_data"
    }
   ],
   "source": [
    "c = call_option(10.50, 30)\n",
    "c.set_premium(0.80)\n",
    "call_mark = [c.get_mark(s) for s in spot]\n",
    "\n",
    "p = put_option(10.50, 30)\n",
    "p.set_premium(1.45)\n",
    "put_mark = [p.get_mark(s) for s in spot]\n",
    "\n",
    "call_mark\n",
    "\n",
    "fig, ax = plt.subplots()\n",
    "ax.plot(spot, call_mark, spot, put_mark)\n",
    "ax.grid(True, zorder=5)\n",
    "plt.show()\n"
   ]
  },
  {
   "cell_type": "code",
   "execution_count": null,
   "metadata": {},
   "outputs": [],
   "source": []
  }
 ],
 "metadata": {
  "kernelspec": {
   "display_name": "Python 3",
   "language": "python",
   "name": "python3"
  },
  "language_info": {
   "codemirror_mode": {
    "name": "ipython",
    "version": 3
   },
   "file_extension": ".py",
   "mimetype": "text/x-python",
   "name": "python",
   "nbconvert_exporter": "python",
   "pygments_lexer": "ipython3",
   "version": "3.6.4"
  }
 },
 "nbformat": 4,
 "nbformat_minor": 2
}
